{
 "cells": [
  {
   "attachments": {},
   "cell_type": "markdown",
   "id": "e8400fb7",
   "metadata": {},
   "source": [
    "# Data Science Tools and Ecosystem"
   ]
  },
  {
   "attachments": {},
   "cell_type": "markdown",
   "id": "30fe80ed",
   "metadata": {},
   "source": [
    "In this notebook, Data Science Tools and Ecosystem are summarized"
   ]
  },
  {
   "attachments": {},
   "cell_type": "markdown",
   "id": "7c98d9da",
   "metadata": {},
   "source": [
    "**Objectives**\n",
    "- List Popular Languages for Data Sciencce\n",
    "- List Commonly Used Libraries for Data Science\n",
    "- List Data Science tools \n",
    "- Show some arthimetic operation "
   ]
  },
  {
   "attachments": {},
   "cell_type": "markdown",
   "id": "4d80b126",
   "metadata": {},
   "source": [
    "Some of the popular languages that Data Scientists use are\n",
    "1. Python\n",
    "2. R\n",
    "3. Julia\n",
    "4. Java\n",
    "5. C++\n",
    "    "
   ]
  },
  {
   "attachments": {},
   "cell_type": "markdown",
   "id": "edcda62c",
   "metadata": {},
   "source": [
    "Some of the commonly used libraries used by Data Scientists include\n",
    "1. Pandas\n",
    "2. R\n",
    "3. Matplolib\n",
    "4. Seaborn\n",
    "5. ggplot"
   ]
  },
  {
   "attachments": {},
   "cell_type": "markdown",
   "id": "2e8c71ed",
   "metadata": {},
   "source": [
    "|Data Science Tools |\n",
    "|-------------------|\n",
    "|IBM Watson Studio|\n",
    "|Google Colab|\n",
    "|Tableau|\n",
    "|Jupyter Notebook|\n",
    "|Git|"
   ]
  },
  {
   "attachments": {},
   "cell_type": "markdown",
   "id": "eccd2397",
   "metadata": {},
   "source": [
    "### Below are a few examples of evaluating arithmetic expressions in Python."
   ]
  },
  {
   "cell_type": "code",
   "execution_count": 4,
   "id": "e6639d44",
   "metadata": {},
   "outputs": [
    {
     "data": {
      "text/plain": [
       "17"
      ]
     },
     "execution_count": 4,
     "metadata": {},
     "output_type": "execute_result"
    }
   ],
   "source": [
    "# This a simple arithmetic expression to mutiply then add integers\n",
    "(3*4)+5    "
   ]
  },
  {
   "cell_type": "code",
   "execution_count": 5,
   "id": "7fbbc8eb",
   "metadata": {},
   "outputs": [
    {
     "data": {
      "text/plain": [
       "3.3333333333333335"
      ]
     },
     "execution_count": 5,
     "metadata": {},
     "output_type": "execute_result"
    }
   ],
   "source": [
    "# This will convert 200 minutes to hours\n",
    "200/60"
   ]
  },
  {
   "attachments": {},
   "cell_type": "markdown",
   "id": "b102d12d",
   "metadata": {},
   "source": [
    "## Author:\n",
    "Israel Omola "
   ]
  },
  {
   "cell_type": "code",
   "execution_count": null,
   "id": "39c090bb",
   "metadata": {},
   "outputs": [],
   "source": []
  }
 ],
 "metadata": {
  "kernelspec": {
   "display_name": "Python 3 (ipykernel)",
   "language": "python",
   "name": "python3"
  },
  "language_info": {
   "codemirror_mode": {
    "name": "ipython",
    "version": 3
   },
   "file_extension": ".py",
   "mimetype": "text/x-python",
   "name": "python",
   "nbconvert_exporter": "python",
   "pygments_lexer": "ipython3",
   "version": "3.9.7"
  }
 },
 "nbformat": 4,
 "nbformat_minor": 5
}

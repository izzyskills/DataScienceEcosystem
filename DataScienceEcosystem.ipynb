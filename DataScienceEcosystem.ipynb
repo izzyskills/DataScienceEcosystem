{
 "cells": [
  {
   "attachments": {},
   "cell_type": "markdown",
   "id": "e8400fb7",
   "metadata": {},
   "source": [
    "# Data Science Tools and Ecosystem"
   ]
  },
  {
   "attachments": {},
   "cell_type": "markdown",
   "id": "ff080f0b",
   "metadata": {},
   "source": [
    "In this notebook, Data Science Tools and Ecosystem are summarized"
   ]
  },
  {
   "attachments": {},
   "cell_type": "markdown",
   "id": "62398711",
   "metadata": {},
   "source": [
    "**Objectives**\n",
    "- List Popular Languages for Data Science\n",
    "- List Commonly Used Libraries for Data Science\n",
    "- List Data Science tools \n",
    "- Show some arithmetic operation "
   ]
  },
  {
   "attachments": {},
   "cell_type": "markdown",
   "id": "0c791aed",
   "metadata": {},
   "source": [
    "Some of the popular languages that Data Scientists use are\n",
    "1. Python\n",
    "2. R\n",
    "3. Julia\n",
    "4. Java\n",
    "5. C++"
   ]
  },
  {
   "attachments": {},
   "cell_type": "markdown",
   "id": "e7581015",
   "metadata": {},
   "source": [
    "Some of the commonly used libraries used by Data Scientists include\n",
    "1. Pandas\n",
    "2. R\n",
    "3. Matplolib\n",
    "4. Seaborn\n",
    "5. ggplot"
   ]
  },
  {
   "attachments": {},
   "cell_type": "markdown",
   "id": "a29aad05",
   "metadata": {},
   "source": [
    "|Data Science Tools |\n",
    "|-------------------|\n",
    "|Anaconda|\n",
    "|Zepplin|\n",
    "|Jupyter Notebook|\n",
    "|Git|"
   ]
  },
  {
   "attachments": {},
   "cell_type": "markdown",
   "id": "9674cff7",
   "metadata": {},
   "source": [
    "### Below are a few examples of evaluating arithmetic expressions in Python."
   ]
  },
  {
   "cell_type": "code",
   "execution_count": 3,
   "id": "cc1e9371",
   "metadata": {},
   "outputs": [
    {
     "data": {
      "text/plain": [
       "17"
      ]
     },
     "execution_count": 3,
     "metadata": {},
     "output_type": "execute_result"
    }
   ],
   "source": [
    "# This a simple arithmetic expression to mutiply then add integers\n",
    "(3*4)+5    "
   ]
  },
  {
   "cell_type": "code",
   "execution_count": 4,
   "id": "1f9e3679",
   "metadata": {},
   "outputs": [
    {
     "data": {
      "text/plain": [
       "3.3333333333333335"
      ]
     },
     "execution_count": 4,
     "metadata": {},
     "output_type": "execute_result"
    }
   ],
   "source": [
    "# This will convert 200 minutes to hours\n",
    "200/60"
   ]
  },
  {
   "attachments": {},
   "cell_type": "markdown",
   "id": "5e535092",
   "metadata": {},
   "source": [
    "## Author:\n",
    "Israel Omola"
   ]
  },
  {
   "cell_type": "code",
   "execution_count": null,
   "id": "dc506c93",
   "metadata": {},
   "outputs": [],
   "source": []
  }
 ],
 "metadata": {
  "kernelspec": {
   "display_name": "Python 3 (ipykernel)",
   "language": "python",
   "name": "python3"
  },
  "language_info": {
   "codemirror_mode": {
    "name": "ipython",
    "version": 3
   },
   "file_extension": ".py",
   "mimetype": "text/x-python",
   "name": "python",
   "nbconvert_exporter": "python",
   "pygments_lexer": "ipython3",
   "version": "3.9.7"
  }
 },
 "nbformat": 4,
 "nbformat_minor": 5
}
